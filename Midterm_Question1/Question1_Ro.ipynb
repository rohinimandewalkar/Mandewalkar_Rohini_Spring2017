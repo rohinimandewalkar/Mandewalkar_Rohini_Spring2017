{
 "cells": [
  {
   "cell_type": "code",
   "execution_count": 1,
   "metadata": {
    "collapsed": true
   },
   "outputs": [],
   "source": [
    "import re,os,string\n"
   ]
  },
  {
   "cell_type": "code",
   "execution_count": 2,
   "metadata": {
    "collapsed": true
   },
   "outputs": [],
   "source": [
    "import nltk\n",
    "from nltk.probability import FreqDist\n",
    "from nltk.corpus import stopwords\n",
    "from nltk.stem.porter import *\n",
    "from nltk.stem.lancaster import LancasterStemmer\n",
    "from collections import Counter\n",
    "import matplotlib.pyplot as plt"
   ]
  },
  {
   "cell_type": "code",
   "execution_count": 3,
   "metadata": {
    "collapsed": false
   },
   "outputs": [],
   "source": [
    "\n",
    "def read(path):\n",
    "    fromlist = []                  # create empty list for from email ids\n",
    "    tolist = []                    # create empty list for to email ids\n",
    "    subjectlist = []               # create empty list for subject\n",
    "    datelist = []                  # create empty list for date\n",
    "    textlist = []               # create empty list for email text\n",
    "\n",
    "  \n",
    "    \n",
    "    for file in os.listdir(path):\n",
    "        with open(os.path.join(path, file), 'r',encoding='utf-8') as contentfile:\n",
    "            content = contentfile.read()\n",
    "            \n",
    "            fromlist.append(re.findall('[\\n\\r].*From: \\s*([^\\n\\r]*)', content)[0])    \n",
    "            \n",
    "            tolist.append(re.findall('[\\n\\r].*To: \\s*([^\\n\\r]*)', content)[0])             # Appending to tolist\n",
    "            \n",
    "            subject = re.findall('Subject: (?s)(.*)Mime-Version', content)[0]               # Appending to tolist\n",
    "            subject = subject.replace('\\n', '')\n",
    "            subjectlist.append(subject)\n",
    "            \n",
    "            datelist.append(re.findall('[\\n\\r].*Date: \\s*([^\\n\\r]*)', content)[0])       # appending all dates\n",
    "            \n",
    "            text_original = re.findall(\"(?<=X-FileName:)[.|\\n|\\W|\\w]*\", content)[0]          # appends all email text\n",
    "            text = text_original.replace('\\n', '')\n",
    "            text = text.replace('pallen (Non-Privileged).pst', '')\n",
    "            text = text.replace('pallen.nsf', '')\n",
    "            textlist.append(text)\n",
    "            tmp = {''}\n",
    "            \n",
    "\n",
    "    data = {}\n",
    "    data['From'] = fromlist\n",
    "    data['To'] = tolist\n",
    "    data['Subject'] = subjectlist\n",
    "    data['Date'] = datelist\n",
    "   \n",
    "    return data\n",
    "\n",
    "\n",
    "arnoldj = read('midterm\\\\data\\\\enron\\\\enron_mail_20150507\\\\maildir\\\\arnold-j\\\\_sent_mail')"
   ]
  },
  {
   "cell_type": "code",
   "execution_count": 5,
   "metadata": {
    "collapsed": false
   },
   "outputs": [],
   "source": [
    "values=[['From','To','Subject','Date']]\n",
    "\n",
    "from_lis = arnoldj['From']\n",
    "to_lis = arnoldj['To']\n",
    "subject_lis = arnoldj['Subject']\n",
    "date_lis = arnoldj['Date']\n",
    "\n",
    "for i in range(len(from_lis)):\n",
    "    tmp = [from_lis[i], to_lis[i], subject_lis[i], date_lis[i]]\n",
    "    values.append(tmp)\n",
    "\n",
    "output = open('ro.csv', 'w')\n",
    "for row in values:\n",
    "    for column in row:\n",
    "        output.write('%s;' % column)\n",
    "        output.write('\\n')\n",
    "output.close()"
   ]
  },
  {
   "cell_type": "markdown",
   "metadata": {},
   "source": [
    "# Analysis 2\n",
    "          Display the most contact person"
   ]
  },
  {
   "cell_type": "code",
   "execution_count": 6,
   "metadata": {
    "collapsed": false
   },
   "outputs": [],
   "source": [
    "contact_name = []\n",
    "for each in to_lis:\n",
    "    x = each.split('@')\n",
    "    contact_name.append(x[0])\n",
    "    x= x[1].split('.')[0]\n",
    "    contact_name.append(x)"
   ]
  },
  {
   "cell_type": "code",
   "execution_count": 10,
   "metadata": {
    "collapsed": false
   },
   "outputs": [
    {
     "data": {
      "image/png": "[encoded data removed]",
      "text/plain": [
       "<matplotlib.figure.Figure at 0x1ef27a1c240>"
      ]
     },
     "metadata": {},
     "output_type": "display_data"
    }
   ],
   "source": [
    "from collections import Counter\n",
    "import operator\n",
    "count = dict(Counter(contact_name))\n",
    "display_names = sorted(count.items(), key=operator.itemgetter(1), reverse = True)\n",
    "\n",
    "\n",
    "xaxis = []\n",
    "yaxis = []\n",
    "x = []\n",
    "for each in display_names[6:12]:\n",
    "    xaxis.append(each[0])\n",
    "    x.append(display_names.index(each))\n",
    "    yaxis.append(each[1])\n",
    "    \n",
    "\n",
    "plt.xticks(x, xaxis)\n",
    "plt.plot(x, yaxis)\n",
    "plt.xlabel('Contacts')\n",
    "plt.ylabel('No of emails recieved')\n",
    "plt.show()\n",
    "\n",
    "output = open('ro2.csv', 'w')\n",
    "for row in display_names:\n",
    "    for column in row:\n",
    "        output.write('%s;' % column)\n",
    "        output.write('\\n')\n",
    "output.close()"
   ]
  },
  {
   "cell_type": "markdown",
   "metadata": {},
   "source": [
    "# Analysis 3\n",
    "         Organizations that recieved more number of mails  "
   ]
  },
  {
   "cell_type": "code",
   "execution_count": 11,
   "metadata": {
    "collapsed": true
   },
   "outputs": [],
   "source": [
    "a = []\n",
    "for each in to_lis:\n",
    "    x = each.split('@')\n",
    "    a.append(x[0])\n",
    "    x= x[1].split('.')[0]\n",
    "    a.append(x)"
   ]
  },
  {
   "cell_type": "code",
   "execution_count": 13,
   "metadata": {
    "collapsed": false
   },
   "outputs": [
    {
     "data": {
      "image/png": "[encoded data removed]",
      "text/plain": [
       "<matplotlib.figure.Figure at 0x1ef2833e940>"
      ]
     },
     "metadata": {},
     "output_type": "display_data"
    }
   ],
   "source": [
    "from collections import Counter\n",
    "import operator\n",
    "ct = dict(Counter(a))\n",
    "sortedvalues = sorted(ct.items(), key=operator.itemgetter(1), reverse = True)\n",
    "\n",
    "xvalue = []\n",
    "yvalue = []\n",
    "x = []\n",
    "for each in sortedvalues[4:10]:\n",
    "    xvalue.append(each[0])\n",
    "    x.append(sortedvalues.index(each))\n",
    "    yvalue.append(each[1])\n",
    "    \n",
    "\n",
    "plt.xticks(x, xvalue)\n",
    "plt.plot(x, yvalue)\n",
    "plt.xlabel(' Name of the organization')\n",
    "plt.ylabel('No of emails recieved')\n",
    "plt.show()\n",
    "\n",
    "out = open('ro3.csv', 'w')\n",
    "for row in sortedvalues:\n",
    "    for column in row:\n",
    "        out.write('%s;' % column)\n",
    "        out.write('\\n')\n",
    "out.close()"
   ]
  },
  {
   "cell_type": "code",
   "execution_count": null,
   "metadata": {
    "collapsed": true
   },
   "outputs": [],
   "source": []
  }
 ],
 "metadata": {
  "anaconda-cloud": {},
  "kernelspec": {
   "display_name": "Python [conda root]",
   "language": "python",
   "name": "conda-root-py"
  },
  "language_info": {
   "codemirror_mode": {
    "name": "ipython",
    "version": 3
   },
   "file_extension": ".py",
   "mimetype": "text/x-python",
   "name": "python",
   "nbconvert_exporter": "python",
   "pygments_lexer": "ipython3",
   "version": "3.5.2"
  }
 },
 "nbformat": 4,
 "nbformat_minor": 1
}
