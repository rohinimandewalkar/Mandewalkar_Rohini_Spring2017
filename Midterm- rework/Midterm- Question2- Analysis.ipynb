{
 "cells": [
  {
   "cell_type": "code",
   "execution_count": 1,
   "metadata": {
    "collapsed": true
   },
   "outputs": [],
   "source": [
    "#Importing all the necessary Libraries\n",
    "import requests\n",
    "import json\n",
    "import os\n",
    "import csv\n",
    "import re"
   ]
  },
  {
   "cell_type": "code",
   "execution_count": 2,
   "metadata": {
    "collapsed": false
   },
   "outputs": [],
   "source": [
    "key=os.getenv('nyt_key')"
   ]
  },
  {
   "cell_type": "code",
   "execution_count": 3,
   "metadata": {
    "collapsed": true
   },
   "outputs": [],
   "source": [
    "#Importing beautifulSoap, Counter and Tokenizer\n",
    "import pylab as plt\n",
    "from bs4 import BeautifulSoup\n",
    "from collections import Counter\n",
    "from nltk.tokenize import word_tokenize"
   ]
  },
  {
   "cell_type": "code",
   "execution_count": 4,
   "metadata": {
    "collapsed": true
   },
   "outputs": [],
   "source": [
    "#Loading and storing of data\n",
    "\n",
    "relativePath = os.getcwd()\n",
    "apiKey = 'e31bc7e0e6ae4eaa88ce8784982924db'\n",
    "\n"
   ]
  },
  {
   "cell_type": "code",
   "execution_count": 5,
   "metadata": {
    "collapsed": true
   },
   "outputs": [],
   "source": [
    "#Fetching the data with year 2014 and month 11\n",
    "year = 2013\n",
    "month = 10\n",
    "\n",
    "url = \"https://api.nytimes.com/svc/archive/v1/\"+str(year)+\"/\"+str(month)+\".json?api-key=\"+apiKey\n",
    "response = requests.get(url)\n",
    "content  = response.json()\n",
    "\n",
    "#Loading of data is being done here\n",
    "with open(relativePath+\"/\"+'midterm/data/jsonData_NY'+\"/\"+str(month)+\"-\"+str(year)+'.json', 'w') as file:\n",
    "    json.dump(content, file)"
   ]
  },
  {
   "cell_type": "markdown",
   "metadata": {},
   "source": [
    "# Analysis 1 : Often used category liners in a timeline\n",
    "# Analysis 2 : Popular category in a particular timeframe"
   ]
  },
  {
   "cell_type": "code",
   "execution_count": 6,
   "metadata": {
    "collapsed": false
   },
   "outputs": [],
   "source": [
    "path = relativePath+\"/\"+'midterm/data/jsonData_NY'\n",
    "\n",
    "#Analysing the data category wise\n",
    "def getArticles(file, category):\n",
    "    config = json.loads(open(file).read())\n",
    "    for x in range(len(config['response']['docs'])):\n",
    "        section = config['response']['docs'][x]['subsection_name']\n",
    "        category.append(section)\n",
    "    "
   ]
  },
  {
   "cell_type": "code",
   "execution_count": 10,
   "metadata": {
    "collapsed": false
   },
   "outputs": [
    {
     "name": "stdout",
     "output_type": "stream",
     "text": [
      "31390\n"
     ]
    }
   ],
   "source": [
    "#Appending all the articles to the list\n",
    "category = []\n",
    "for directory, subDirectory, filename in os.walk(path):\n",
    "    for file in filename:\n",
    "        getArticles(os.path.join(directory, file), category)\n",
    "print(len(category))\n",
    "count={} "
   ]
  },
  {
   "cell_type": "code",
   "execution_count": 11,
   "metadata": {
    "collapsed": false
   },
   "outputs": [
    {
     "name": "stdout",
     "output_type": "stream",
     "text": [
      "[(None, 34426), ('Asia Pacific', 2206), ('Dealbook', 2172), ('Politics', 1510), ('Europe', 1440), ('Middle East', 1388), ('Pro Football', 1240), ('Music', 1212), ('Media', 1090), ('Baseball', 1084)]\n"
     ]
    }
   ],
   "source": [
    "#Storing the count of each word in the dictionary by looping across the dataset.\n",
    "for word in category:\n",
    "    count = fcount.get(word,0)\n",
    "    fcount[word] = count + 1\n",
    "sortedDict = sorted(fcount.items(), key=lambda x: (-x[1], x[0])) \n",
    "print(sortedDict[:10])\n",
    "i = 0\n",
    "oredering = []\n",
    "\n",
    "#Giving rank to each word based on the count\n",
    "for rank in range(len(sortedDict)):\n",
    "    obj1 = sortedDict[rank]\n",
    "    obj1 = obj1 + (i,)\n",
    "    oredering.append(obj1) \n",
    "    i = i+1\n",
    "fileName = relativePath+\"/\"+'midterm/NYTS_NY.csv'"
   ]
  },
  {
   "cell_type": "code",
   "execution_count": 9,
   "metadata": {
    "collapsed": false
   },
   "outputs": [
    {
     "data": {
      "image/png": "[encoded data removed]",
      "text/plain": [
       "<matplotlib.figure.Figure at 0x18803e4b048>"
      ]
     },
     "metadata": {},
     "output_type": "display_data"
    }
   ],
   "source": [
    "#Loading of the data is being done here\n",
    "with open(fileName, 'w', newline='') as fp:\n",
    "    a = csv.writer(fp, delimiter=',')\n",
    "    a.writerow([\"Category\", \"Count\"])\n",
    "    a.writerows(oredering[:10])\n",
    "label = []\n",
    "y = []\n",
    "z = []\n",
    "with open(fileName,'r') as csvfile:\n",
    "    next(csvfile)\n",
    "    next(csvfile)\n",
    "    plots = csv.reader(csvfile, delimiter=',')\n",
    "    for row in plots:\n",
    "        label.append(row[0])\n",
    "        y.append(int(row[1]))\n",
    "        z.append(int(row[2]))\n",
    "        \n",
    "pieFig = relativePath+\"/\"+'midterm/Analysis_NY.png'\n",
    "plt.figure(figsize=(10,5))\n",
    "plt.bar(z, y, align='center')\n",
    "plt.xticks(z, label, rotation=90)\n",
    "plt.xlabel(\"Top Categoies of Articles\")\n",
    "plt.ylabel(\"Number of Posts\")\n",
    "plt.savefig(pieFig, bbox_inches='tight')\n",
    "plt.show()\n"
   ]
  },
  {
   "cell_type": "markdown",
   "metadata": {},
   "source": [
    "# Analysis 3: Music Analysis"
   ]
  },
  {
   "cell_type": "code",
   "execution_count": 32,
   "metadata": {
    "collapsed": false
   },
   "outputs": [],
   "source": [
    "def getValue(file, keyWords):\n",
    "    config = json.loads(open(file).read())\n",
    "    for x in range(len(config['response']['docs'])):\n",
    "        headline = config['response']['docs'][x]['headline']['main']\n",
    "        if 'Music' in headline: \n",
    "#Collecting the data containing Music\n",
    "            for y in range(len(config['response']['docs'][x]['keywords'])):\n",
    "                val = config['response']['docs'][x]['keywords'][y]['value']\n",
    "                keyWords.append(val)\n",
    "#Analyzing the liners dealing with Music Industry\n",
    "keyWords = [] \n",
    "for directory, subDirectory, filename in os.walk(path):\n",
    "    for file in filename:\n",
    "        getValue(os.path.join(directory, file), keyWords)"
   ]
  },
  {
   "cell_type": "code",
   "execution_count": 33,
   "metadata": {
    "collapsed": true
   },
   "outputs": [],
   "source": [
    "#Writing the words to a text file\n",
    "with open(relativePath+\"/\"+'midterm/keyWords.txt', \"w\") as f:\n",
    "    for unique in keyWords:\n",
    "        f.write(unique)\n",
    "        f.write(\"\\n\")"
   ]
  },
  {
   "cell_type": "code",
   "execution_count": 34,
   "metadata": {
    "collapsed": false
   },
   "outputs": [
    {
     "name": "stdout",
     "output_type": "stream",
     "text": [
      "[('Classical Music', 45), ('Theater', 23), ('Opera', 17), ('Spotify', 9), ('Television', 8), ('Audio Recordings and Downloads', 7), ('Books and Literature', 7), ('Royalties', 7), ('Minnesota Orchestra', 6), ('Movies', 6)]\n"
     ]
    }
   ],
   "source": [
    "with open(relativePath+\"/\"+'midterm/keyWords.txt', \"r\") as f:\n",
    "    data = f.readlines()\n",
    "uniqueWords = {} \n",
    "for word in data:\n",
    "    \n",
    "#finding out the unique keywords and then adding \n",
    "    word = word.replace(\"\\n\", \"\")\n",
    "    if word in uniqueWords:\n",
    "        uniqueWords[word] += 1\n",
    "    else:\n",
    "        uniqueWords[word] = 1\n",
    "        sortedDict = sorted(uniqueWords.items(), key=lambda x: (-x[1], x[0]))\n",
    "    newList = sortedDict[1:11]\n",
    "print(newList)"
   ]
  },
  {
   "cell_type": "code",
   "execution_count": 35,
   "metadata": {
    "collapsed": true
   },
   "outputs": [],
   "source": [
    "#Assinging the rank now to the words:\n",
    "i = 1\n",
    "newListOfKeywords = []\n",
    "for rank in range(len(newList)):\n",
    "    obj = newList[rank]\n",
    "    obj = obj + (i,)\n",
    "    newListOfKeywords.append(obj)\n",
    "    i = i+1"
   ]
  },
  {
   "cell_type": "code",
   "execution_count": 36,
   "metadata": {
    "collapsed": true
   },
   "outputs": [],
   "source": [
    "#CSV Files\n",
    "fileNameNew = relativePath+\"/\"+'midterm/Music.csv'\n",
    "with open(fileNameNew, 'w', newline='') as fp:\n",
    "    a = csv.writer(fp, delimiter=',')\n",
    "    a.writerow([\"KeyWords\", \"Count\", \"Rank\"])\n",
    "    a.writerows(newKeyWordList)"
   ]
  },
  {
   "cell_type": "code",
   "execution_count": 37,
   "metadata": {
    "collapsed": true
   },
   "outputs": [],
   "source": [
    "key = []\n",
    "count = []\n",
    "rank = []\n",
    "with open(fileNameNew,'r') as csvfile:\n",
    "    next(csvfile)\n",
    "    plots = csv.reader(csvfile, delimiter=',')\n",
    "    for row in plots:\n",
    "        key.append(str((row[0])))\n",
    "        count.append(int(row[1]))\n",
    "        rank.append(int(row[2]))"
   ]
  },
  {
   "cell_type": "code",
   "execution_count": 31,
   "metadata": {
    "collapsed": false
   },
   "outputs": [
    {
     "data": {
      "image/png": "[encoded data removed]",
      "text/plain": [
       "<matplotlib.figure.Figure at 0x18800193e48>"
      ]
     },
     "metadata": {},
     "output_type": "display_data"
    }
   ],
   "source": [
    "#Sub Categories graph:\n",
    "exportFig = relativePath+\"/\"+'midterm/Music.png'\n",
    "plt.figure(figsize=(12,4))\n",
    "plt.bar(rank, count, align='center', color='blue')\n",
    "plt.xticks(rank, key, rotation=90)\n",
    "plt.xlabel(\"Article Liner\")\n",
    "plt.ylabel(\"Number of posts on Music\")\n",
    "plt.savefig(exportFig, bbox_inches='tight')\n",
    "plt.show()"
   ]
  },
  {
   "cell_type": "code",
   "execution_count": null,
   "metadata": {
    "collapsed": true
   },
   "outputs": [],
   "source": []
  },
  {
   "cell_type": "code",
   "execution_count": null,
   "metadata": {
    "collapsed": true
   },
   "outputs": [],
   "source": []
  },
  {
   "cell_type": "code",
   "execution_count": null,
   "metadata": {
    "collapsed": true
   },
   "outputs": [],
   "source": []
  }
 ],
 "metadata": {
  "anaconda-cloud": {},
  "kernelspec": {
   "display_name": "Python [conda root]",
   "language": "python",
   "name": "conda-root-py"
  },
  "language_info": {
   "codemirror_mode": {
    "name": "ipython",
    "version": 3
   },
   "file_extension": ".py",
   "mimetype": "text/x-python",
   "name": "python",
   "nbconvert_exporter": "python",
   "pygments_lexer": "ipython3",
   "version": "3.5.2"
  }
 },
 "nbformat": 4,
 "nbformat_minor": 1
}
