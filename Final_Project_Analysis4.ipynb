{
 "cells": [
  {
   "cell_type": "markdown",
   "metadata": {},
   "source": [
    "We are going to be using The History of Baseball dataset for our analysis. One of the suggestions for analysis is, \"Is there a most error-prone position?\" We're going to try and answer that question. While there may be other kernels out there that have already tackled this problem, I have not looked for them. I am still learning, and I want this analysis to be entirely my own."
   ]
  },
  {
   "cell_type": "code",
   "execution_count": 52,
   "metadata": {
    "collapsed": false
   },
   "outputs": [],
   "source": [
    "# importing all the required libraries\n",
    "\n",
    "import numpy as np \n",
    "import pandas as pd \n",
    "import matplotlib.pyplot as plt\n",
    "import seaborn as sb\n",
    "%matplotlib inline\n",
    "from subprocess import check_output"
   ]
  },
  {
   "cell_type": "code",
   "execution_count": 53,
   "metadata": {
    "collapsed": true
   },
   "outputs": [],
   "source": [
    "#Reading the CSV file and storing it in the dataset fielding\n",
    "fielding = pd.read_csv('D:/Users/vin/Desktop/FinalProject-Python/the-history-of-baseball/fielding.csv')"
   ]
  },
  {
   "cell_type": "code",
   "execution_count": 54,
   "metadata": {
    "collapsed": true
   },
   "outputs": [],
   "source": [
    "fielding = fielding[fielding['pos']!='DH']\n",
    "\n",
    "#After observing the file properly, we can notice that we do not need DH as the DH only bats"
   ]
  },
  {
   "cell_type": "code",
   "execution_count": 55,
   "metadata": {
    "collapsed": true
   },
   "outputs": [],
   "source": [
    "errors = fielding.groupby(by='pos')['e'].sum() #Let us compare the errors for each position"
   ]
  },
  {
   "cell_type": "code",
   "execution_count": 56,
   "metadata": {
    "collapsed": false
   },
   "outputs": [
    {
     "data": {
      "text/plain": [
       "<matplotlib.text.Text at 0x89a5da1550>"
      ]
     },
     "execution_count": 56,
     "metadata": {},
     "output_type": "execute_result"
    },
    {
     "data": {
      "image/png": "[encoded data removed]",
      "text/plain": [
       "<matplotlib.figure.Figure at 0x89a58142e8>"
      ]
     },
     "metadata": {},
     "output_type": "display_data"
    }
   ],
   "source": [
    "# Let's view the results\n",
    "sb.barplot(x=errors.sort_values().index, y=errors.sort_values())\n",
    "plt.title('Number of Errors by Position')\n",
    "plt.xlabel('Position')\n",
    "plt.ylabel('Total Errors')"
   ]
  },
  {
   "cell_type": "code",
   "execution_count": 57,
   "metadata": {
    "collapsed": false
   },
   "outputs": [],
   "source": [
    "errors['OF'] = errors['CF'] + errors['RF'] + errors['LF'] + errors['OF']\n",
    "#We can see that the SS position has the most erros, but that does not mean that SS is more error prone.\n",
    "# As it is a very important position, it might be involved in more plays. CF, RF and LF have far fewer erros than the\n",
    "# other positions. Before 1954, they were all recorded as OF. Lets now add all the outfield positions and see what we get."
   ]
  },
  {
   "cell_type": "code",
   "execution_count": 62,
   "metadata": {
    "collapsed": false
   },
   "outputs": [
    {
     "data": {
      "text/plain": [
       "<matplotlib.text.Text at 0x89a18bcf60>"
      ]
     },
     "execution_count": 62,
     "metadata": {},
     "output_type": "execute_result"
    },
    {
     "data": {
      "image/png": "[encoded data removed]",
      "text/plain": [
       "<matplotlib.figure.Figure at 0x89a177bac8>"
      ]
     },
     "metadata": {},
     "output_type": "display_data"
    }
   ],
   "source": [
    "# Let's view the updated results.\n",
    "sns.barplot(x=errors.sort_values().index, y=errors.sort_values())\n",
    "plt.title('Number of Errors by Position')\n",
    "plt.xlabel('Position')\n",
    "plt.ylabel('Total Errors')"
   ]
  },
  {
   "cell_type": "code",
   "execution_count": 21,
   "metadata": {
    "collapsed": true
   },
   "outputs": [],
   "source": [
    "errors_po = fielding.groupby(by='pos')[['e', 'po']].sum()\n",
    "\n",
    "# So now it looks like outfielders may have made more errors than shortstops. But perhaps there is more to it than total errors. Certain positions may handle the ball more, so we'd expect more errors. To account for this, we'll now compare errors per putout for each position. First we'll group the dataframe by position, then select the error and putouts columns, then we'll sum them.\n"
   ]
  },
  {
   "cell_type": "code",
   "execution_count": 64,
   "metadata": {
    "collapsed": false
   },
   "outputs": [
    {
     "data": {
      "text/html": [
       "<div>\n",
       "<table border=\"1\" class=\"dataframe\">\n",
       "  <thead>\n",
       "    <tr style=\"text-align: right;\">\n",
       "      <th></th>\n",
       "      <th>e</th>\n",
       "      <th>po</th>\n",
       "      <th>e/po</th>\n",
       "    </tr>\n",
       "    <tr>\n",
       "      <th>pos</th>\n",
       "      <th></th>\n",
       "      <th></th>\n",
       "      <th></th>\n",
       "    </tr>\n",
       "  </thead>\n",
       "  <tbody>\n",
       "    <tr>\n",
       "      <th>1B</th>\n",
       "      <td>50112.0</td>\n",
       "      <td>3905147.0</td>\n",
       "      <td>0.012832</td>\n",
       "    </tr>\n",
       "    <tr>\n",
       "      <th>2B</th>\n",
       "      <td>78176.0</td>\n",
       "      <td>973582.0</td>\n",
       "      <td>0.080297</td>\n",
       "    </tr>\n",
       "    <tr>\n",
       "      <th>3B</th>\n",
       "      <td>85280.0</td>\n",
       "      <td>406128.0</td>\n",
       "      <td>0.209983</td>\n",
       "    </tr>\n",
       "    <tr>\n",
       "      <th>C</th>\n",
       "      <td>60685.0</td>\n",
       "      <td>2325955.0</td>\n",
       "      <td>0.026090</td>\n",
       "    </tr>\n",
       "    <tr>\n",
       "      <th>OF</th>\n",
       "      <td>115559.0</td>\n",
       "      <td>3852289.0</td>\n",
       "      <td>0.029997</td>\n",
       "    </tr>\n",
       "  </tbody>\n",
       "</table>\n",
       "</div>"
      ],
      "text/plain": [
       "            e         po      e/po\n",
       "pos                               \n",
       "1B    50112.0  3905147.0  0.012832\n",
       "2B    78176.0   973582.0  0.080297\n",
       "3B    85280.0   406128.0  0.209983\n",
       "C     60685.0  2325955.0  0.026090\n",
       "OF   115559.0  3852289.0  0.029997"
      ]
     },
     "execution_count": 64,
     "metadata": {},
     "output_type": "execute_result"
    }
   ],
   "source": [
    "# Let's check the head to make sure we got what we want.\n",
    "errors_po.head()"
   ]
  },
  {
   "cell_type": "code",
   "execution_count": 23,
   "metadata": {
    "collapsed": true
   },
   "outputs": [],
   "source": [
    "# Since we already know about the outfield problem, let's go ahead and sum the results of the individual outfield positions and add them to the OF line.\n",
    "errors_po.loc['OF']['e'] = errors_po.loc['OF']['e'] + errors_po.loc['LF']['e'] + errors_po.loc['CF']['e'] + errors_po.loc['RF']['e']\n",
    "errors_po.loc['OF']['po'] = errors_po.loc['OF']['po'] + errors_po.loc['LF']['po'] + errors_po.loc['CF']['po'] + errors_po.loc['RF']['po']"
   ]
  },
  {
   "cell_type": "code",
   "execution_count": 24,
   "metadata": {
    "collapsed": true
   },
   "outputs": [],
   "source": [
    "#Now let's remove the individual outfield positions.\n",
    "errors_po.drop(['CF', 'RF', 'LF'], axis=0, inplace=True)"
   ]
  },
  {
   "cell_type": "code",
   "execution_count": 25,
   "metadata": {
    "collapsed": true
   },
   "outputs": [],
   "source": [
    "# We have errors and putouts, but we need to create the column error/putout. We can define a function that takes in a dataframe and returns the errors column divided by the putouts column.\n",
    "def e_per_po(df):\n",
    "    return df['e'] / df['po']"
   ]
  },
  {
   "cell_type": "code",
   "execution_count": 26,
   "metadata": {
    "collapsed": true
   },
   "outputs": [],
   "source": [
    "# Now we apply our new function to the dataframe.\n",
    "errors_po['e/po'] = errors_po.apply(e_per_po, axis=1)"
   ]
  },
  {
   "cell_type": "code",
   "execution_count": 27,
   "metadata": {
    "collapsed": false
   },
   "outputs": [
    {
     "data": {
      "text/html": [
       "<div>\n",
       "<table border=\"1\" class=\"dataframe\">\n",
       "  <thead>\n",
       "    <tr style=\"text-align: right;\">\n",
       "      <th></th>\n",
       "      <th>e</th>\n",
       "      <th>po</th>\n",
       "      <th>e/po</th>\n",
       "    </tr>\n",
       "    <tr>\n",
       "      <th>pos</th>\n",
       "      <th></th>\n",
       "      <th></th>\n",
       "      <th></th>\n",
       "    </tr>\n",
       "  </thead>\n",
       "  <tbody>\n",
       "    <tr>\n",
       "      <th>1B</th>\n",
       "      <td>50112.0</td>\n",
       "      <td>3905147.0</td>\n",
       "      <td>0.012832</td>\n",
       "    </tr>\n",
       "    <tr>\n",
       "      <th>2B</th>\n",
       "      <td>78176.0</td>\n",
       "      <td>973582.0</td>\n",
       "      <td>0.080297</td>\n",
       "    </tr>\n",
       "    <tr>\n",
       "      <th>3B</th>\n",
       "      <td>85280.0</td>\n",
       "      <td>406128.0</td>\n",
       "      <td>0.209983</td>\n",
       "    </tr>\n",
       "    <tr>\n",
       "      <th>C</th>\n",
       "      <td>60685.0</td>\n",
       "      <td>2325955.0</td>\n",
       "      <td>0.026090</td>\n",
       "    </tr>\n",
       "    <tr>\n",
       "      <th>OF</th>\n",
       "      <td>115559.0</td>\n",
       "      <td>3852289.0</td>\n",
       "      <td>0.029997</td>\n",
       "    </tr>\n",
       "  </tbody>\n",
       "</table>\n",
       "</div>"
      ],
      "text/plain": [
       "            e         po      e/po\n",
       "pos                               \n",
       "1B    50112.0  3905147.0  0.012832\n",
       "2B    78176.0   973582.0  0.080297\n",
       "3B    85280.0   406128.0  0.209983\n",
       "C     60685.0  2325955.0  0.026090\n",
       "OF   115559.0  3852289.0  0.029997"
      ]
     },
     "execution_count": 27,
     "metadata": {},
     "output_type": "execute_result"
    }
   ],
   "source": [
    "# Check the head to see if calculated correctly\n",
    "errors_po.head()"
   ]
  }
 ],
 "metadata": {
  "kernelspec": {
   "display_name": "Python 3",
   "language": "python",
   "name": "python3"
  },
  "language_info": {
   "codemirror_mode": {
    "name": "ipython",
    "version": 3
   },
   "file_extension": ".py",
   "mimetype": "text/x-python",
   "name": "python",
   "nbconvert_exporter": "python",
   "pygments_lexer": "ipython3",
   "version": "3.6.0"
  }
 },
 "nbformat": 4,
 "nbformat_minor": 2
}
