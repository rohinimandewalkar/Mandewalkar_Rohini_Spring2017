{
 "cells": [
  {
   "cell_type": "markdown",
   "metadata": {},
   "source": [
    "# Question 1\n",
    "Under package Gutenberg, see what files are in it.\n",
    "Find out how many words and how many unique words in file 'austen-persuasion.txt'.\n",
    "Calculate the frequency for each words and show the top 10 most frequent words and their frequency.\u000b",
    "Try NOT to use FreqDist module.\n",
    "Keep the punctuation and stop words in this question.\n",
    "\n"
   ]
  },
  {
   "cell_type": "code",
   "execution_count": 2,
   "metadata": {
    "collapsed": true
   },
   "outputs": [],
   "source": [
    "import nltk\n"
   ]
  },
  {
   "cell_type": "code",
   "execution_count": 3,
   "metadata": {
    "collapsed": false
   },
   "outputs": [
    {
     "data": {
      "text/plain": [
       "['austen-emma.txt',\n",
       " 'austen-persuasion.txt',\n",
       " 'austen-sense.txt',\n",
       " 'bible-kjv.txt',\n",
       " 'blake-poems.txt',\n",
       " 'bryant-stories.txt',\n",
       " 'burgess-busterbrown.txt',\n",
       " 'carroll-alice.txt',\n",
       " 'chesterton-ball.txt',\n",
       " 'chesterton-brown.txt',\n",
       " 'chesterton-thursday.txt',\n",
       " 'edgeworth-parents.txt',\n",
       " 'melville-moby_dick.txt',\n",
       " 'milton-paradise.txt',\n",
       " 'shakespeare-caesar.txt',\n",
       " 'shakespeare-hamlet.txt',\n",
       " 'shakespeare-macbeth.txt',\n",
       " 'whitman-leaves.txt']"
      ]
     },
     "execution_count": 3,
     "metadata": {},
     "output_type": "execute_result"
    }
   ],
   "source": [
    "nltk.corpus.gutenberg.fileids()"
   ]
  },
  {
   "cell_type": "code",
   "execution_count": 7,
   "metadata": {
    "collapsed": false
   },
   "outputs": [
    {
     "name": "stdout",
     "output_type": "stream",
     "text": [
      "Number Of Files = 18\n"
     ]
    }
   ],
   "source": [
    "lengthOfTheFile=len(nltk.corpus.gutenberg.fileids())\n",
    "print(\"Number Of Files =\",lengthOfTheFile)"
   ]
  },
  {
   "cell_type": "code",
   "execution_count": 10,
   "metadata": {
    "collapsed": false
   },
   "outputs": [
    {
     "name": "stdout",
     "output_type": "stream",
     "text": [
      "The file austen-emma.txt has 192427 words.\n",
      "The file austen-emma.txt has 17409 words.\n"
     ]
    }
   ],
   "source": [
    "# Number of words and unique words in the file 'austen-persuasion.txt'\n",
    "wordCount = nltk.corpus.gutenberg.words('austen-emma.txt')\n",
    "print(\"The file austen-emma.txt has\",len(wordCount), \"words.\")\n",
    "rawWords=nltk.corpus.gutenberg.raw('austen-emma.txt')\n",
    "words= rawWords.split()\n",
    "uniqueWords= set(words)\n",
    "print(\"The file austen-emma.txt has\",len(uniqueWords), \"words.\")\n"
   ]
  },
  {
   "cell_type": "code",
   "execution_count": 12,
   "metadata": {
    "collapsed": false
   },
   "outputs": [
    {
     "name": "stdout",
     "output_type": "stream",
     "text": [
      "Listed below are the top 10 words and their frequencies:\n"
     ]
    },
    {
     "data": {
      "text/plain": [
       "[('to', 5041),\n",
       " ('the', 4813),\n",
       " ('and', 4305),\n",
       " ('of', 4187),\n",
       " ('a', 2958),\n",
       " ('I', 2602),\n",
       " ('was', 2297),\n",
       " ('in', 2034),\n",
       " ('not', 2013),\n",
       " ('her', 1915)]"
      ]
     },
     "execution_count": 12,
     "metadata": {},
     "output_type": "execute_result"
    }
   ],
   "source": [
    "# Displaying top 10 most frequently used words\n",
    "wordcount={}\n",
    "for word in words:\n",
    "    if word.isalpha():\n",
    "        if word not in wordcount:\n",
    "            wordcount[word] = 1\n",
    "        else:\n",
    "            wordcount[word] += 1\n",
    "topWords=sorted(wordcount.items(), key=lambda x: x[1], reverse=True)\n",
    "print(\"Listed below are the top 10 words and their frequencies:\")\n",
    "topWords[:10]"
   ]
  },
  {
   "cell_type": "code",
   "execution_count": null,
   "metadata": {
    "collapsed": true
   },
   "outputs": [],
   "source": []
  }
 ],
 "metadata": {
  "anaconda-cloud": {},
  "kernelspec": {
   "display_name": "Python [conda root]",
   "language": "python",
   "name": "conda-root-py"
  },
  "language_info": {
   "codemirror_mode": {
    "name": "ipython",
    "version": 3
   },
   "file_extension": ".py",
   "mimetype": "text/x-python",
   "name": "python",
   "nbconvert_exporter": "python",
   "pygments_lexer": "ipython3",
   "version": "3.5.2"
  }
 },
 "nbformat": 4,
 "nbformat_minor": 1
}
