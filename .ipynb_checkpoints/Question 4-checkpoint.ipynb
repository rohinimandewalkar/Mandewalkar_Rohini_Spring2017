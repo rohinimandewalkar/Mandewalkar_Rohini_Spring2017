{
 "cells": [
  {
   "cell_type": "markdown",
   "metadata": {},
   "source": [
    "# Question 4\n",
    "Under package nps_chat, see what files are in it.\n",
    "Find 'user121' and see how many posts he posted in all.\n",
    "Find out how many unique user in each age range group. (20s, 30s,...)(Hint: files' name)\n"
   ]
  },
  {
   "cell_type": "code",
   "execution_count": 9,
   "metadata": {
    "collapsed": false
   },
   "outputs": [
    {
     "name": "stdout",
     "output_type": "stream",
     "text": [
      "The files in nps_chat package: \n",
      " ['10-19-20s_706posts.xml', '10-19-30s_705posts.xml', '10-19-40s_686posts.xml', '10-19-adults_706posts.xml', '10-24-40s_706posts.xml', '10-26-teens_706posts.xml', '11-06-adults_706posts.xml', '11-08-20s_705posts.xml', '11-08-40s_706posts.xml', '11-08-adults_705posts.xml', '11-08-teens_706posts.xml', '11-09-20s_706posts.xml', '11-09-40s_706posts.xml', '11-09-adults_706posts.xml', '11-09-teens_706posts.xml']\n"
     ]
    }
   ],
   "source": [
    "import nltk\n",
    "from nltk.corpus import nps_chat\n",
    "print (\"The files in nps_chat package: \\n\",nps_chat.fileids())"
   ]
  },
  {
   "cell_type": "code",
   "execution_count": 10,
   "metadata": {
    "collapsed": true
   },
   "outputs": [],
   "source": [
    "post=nps_chat.xml_posts()\n",
    "# Initializing count for user 121\n",
    "count_User121=0\n",
    "# Creating a list for people whose age is in  20's range\n",
    "L_20=[]\n",
    "# Creating a list for people whose age is in  30's range\n",
    "L_30=[]\n",
    "# Creating a list for people whose age is in  40's range\n",
    "L_40=[]\n",
    "# Creating a list for people aged in adult range\n",
    "adultAge=[]\n",
    "# Creating a list for people aged in teen range\n",
    "teenAge=[]"
   ]
  },
  {
   "cell_type": "code",
   "execution_count": 11,
   "metadata": {
    "collapsed": true
   },
   "outputs": [],
   "source": [
    "for i in post: # Looping thru all the posts\n",
    "    user=i.attrib['user'] # Picking the data inside the user attribute \n",
    "    if user[9:]==\"User121\":\n",
    "        count_User121=count_User121+1\n",
    "    if(\"20s\" in user):\n",
    "        user=user[9:] # Getting the user number\n",
    "        if user not in L_20: # To maintain unique users in the list\n",
    "            L_20.append(user)\n",
    "    elif(\"30s\" in user):\n",
    "        user=user[9:]\n",
    "        if user not in L_30: # To maintain unique users in the list\n",
    "            L_30.append(user)\n",
    "    elif(\"40s\" in user):\n",
    "        user=user[9:]\n",
    "        if user not in L_40: # To maintain unique users in the list\n",
    "            L_40.append(user)      \n",
    "    elif(\"adults\" in user):\n",
    "        user=user[9:]\n",
    "        if user not in adultAge: # To maintain unique users in the list\n",
    "            adultAge.append(user)\n",
    "    else:\n",
    "        user=user[9:]\n",
    "        if user not in teenAge: # To maintain unique users in the list\n",
    "            teenAge.append(user)"
   ]
  },
  {
   "cell_type": "code",
   "execution_count": 12,
   "metadata": {
    "collapsed": false
   },
   "outputs": [
    {
     "name": "stdout",
     "output_type": "stream",
     "text": [
      "Number of posts by User121:  104\n",
      "Number of distinct users in the age group 20 :  162\n",
      "Number of distinct users in the age group 30 :  44\n",
      "Number of distinct users in the age group 40 :  80\n",
      "Number of distinct users in the adult age group :  138\n",
      "Number of distinct users in the teen age group :  206\n"
     ]
    }
   ],
   "source": [
    "print(\"Number of posts by User121: \" ,count_User121)\n",
    "print (\"Number of distinct users in the age group 20 : \",len(L_20))\n",
    "print (\"Number of distinct users in the age group 30 : \",len(L_30))\n",
    "print (\"Number of distinct users in the age group 40 : \",len(L_40))\n",
    "print (\"Number of distinct users in the adult age group : \",len(adultAge))\n",
    "print (\"Number of distinct users in the teen age group : \",len(teenAge))"
   ]
  },
  {
   "cell_type": "code",
   "execution_count": null,
   "metadata": {
    "collapsed": true
   },
   "outputs": [],
   "source": []
  },
  {
   "cell_type": "code",
   "execution_count": null,
   "metadata": {
    "collapsed": true
   },
   "outputs": [],
   "source": []
  }
 ],
 "metadata": {
  "anaconda-cloud": {},
  "kernelspec": {
   "display_name": "Python [conda root]",
   "language": "python",
   "name": "conda-root-py"
  },
  "language_info": {
   "codemirror_mode": {
    "name": "ipython",
    "version": 3
   },
   "file_extension": ".py",
   "mimetype": "text/x-python",
   "name": "python",
   "nbconvert_exporter": "python",
   "pygments_lexer": "ipython3",
   "version": "3.5.2"
  }
 },
 "nbformat": 4,
 "nbformat_minor": 1
}
