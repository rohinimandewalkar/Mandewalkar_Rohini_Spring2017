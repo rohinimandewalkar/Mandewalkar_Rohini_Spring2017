{
 "cells": [
  {
   "cell_type": "markdown",
   "metadata": {},
   "source": [
    "# Question 2\n",
    "Under package Gutenberg get content from file 'melville-moby_dick.txt.' (HINT: Words? Raw?)\n",
    "Find out frequency of 26 characters. (Turn uppercase into lowercase and count as one character)\n",
    "List all 26 characters in order base on their frequency. (From most frequent to least frequent)"
   ]
  },
  {
   "cell_type": "code",
   "execution_count": 16,
   "metadata": {
    "collapsed": true
   },
   "outputs": [],
   "source": [
    "import nltk\n",
    "import collections"
   ]
  },
  {
   "cell_type": "code",
   "execution_count": 17,
   "metadata": {
    "collapsed": true
   },
   "outputs": [],
   "source": [
    "from nltk.corpus import gutenberg"
   ]
  },
  {
   "cell_type": "code",
   "execution_count": 18,
   "metadata": {
    "collapsed": true
   },
   "outputs": [],
   "source": [
    "file=nltk.corpus.gutenberg.raw('melville-moby_dick.txt')\n",
    "frequencyofcharacters=file.lower()"
   ]
  },
  {
   "cell_type": "code",
   "execution_count": 19,
   "metadata": {
    "collapsed": false
   },
   "outputs": [],
   "source": [
    "letters = collections.defaultdict(int)\n",
    "for letter in file:\n",
    "    letters[letter] += 1\n",
    "    letters"
   ]
  },
  {
   "cell_type": "code",
   "execution_count": 20,
   "metadata": {
    "collapsed": true
   },
   "outputs": [],
   "source": [
    "letters = collections.defaultdict(int)\n",
    "for letter in frequencyofcharacters:\n",
    "    letters[letter] += 1\n",
    "    letters"
   ]
  },
  {
   "cell_type": "code",
   "execution_count": 21,
   "metadata": {
    "collapsed": false
   },
   "outputs": [],
   "source": [
    "from nltk.book import *"
   ]
  },
  {
   "cell_type": "code",
   "execution_count": 22,
   "metadata": {
    "collapsed": true
   },
   "outputs": [],
   "source": [
    "order=FreqDist(letters)"
   ]
  },
  {
   "cell_type": "code",
   "execution_count": 25,
   "metadata": {
    "collapsed": false
   },
   "outputs": [
    {
     "data": {
      "text/plain": [
       "FreqDist({'\\n': 22924,\n",
       "          '\\r': 22924,\n",
       "          ' ': 198098,\n",
       "          '!': 1767,\n",
       "          '\"': 3071,\n",
       "          '$': 2,\n",
       "          '&': 2,\n",
       "          \"'\": 2922,\n",
       "          '(': 215,\n",
       "          ')': 215,\n",
       "          '*': 45,\n",
       "          ',': 19229,\n",
       "          '-': 5984,\n",
       "          '.': 7558,\n",
       "          '0': 131,\n",
       "          '1': 142,\n",
       "          '2': 60,\n",
       "          '3': 47,\n",
       "          '4': 39,\n",
       "          '5': 55,\n",
       "          '6': 37,\n",
       "          '7': 53,\n",
       "          '8': 59,\n",
       "          '9': 35,\n",
       "          ':': 196,\n",
       "          ';': 4173,\n",
       "          '?': 1004,\n",
       "          '[': 3,\n",
       "          ']': 3,\n",
       "          '_': 26,\n",
       "          'a': 77916,\n",
       "          'b': 16877,\n",
       "          'c': 22507,\n",
       "          'd': 38219,\n",
       "          'e': 117092,\n",
       "          'f': 20833,\n",
       "          'g': 20820,\n",
       "          'h': 62896,\n",
       "          'i': 65434,\n",
       "          'j': 1082,\n",
       "          'k': 8059,\n",
       "          'l': 42793,\n",
       "          'm': 23277,\n",
       "          'n': 65617,\n",
       "          'o': 69326,\n",
       "          'p': 17255,\n",
       "          'q': 1556,\n",
       "          'r': 52134,\n",
       "          's': 64231,\n",
       "          't': 87996,\n",
       "          'u': 26697,\n",
       "          'v': 8598,\n",
       "          'w': 22222,\n",
       "          'x': 1030,\n",
       "          'y': 16872,\n",
       "          'z': 632})"
      ]
     },
     "execution_count": 25,
     "metadata": {},
     "output_type": "execute_result"
    }
   ],
   "source": [
    "order"
   ]
  },
  {
   "cell_type": "code",
   "execution_count": 24,
   "metadata": {
    "collapsed": false
   },
   "outputs": [
    {
     "data": {
      "text/plain": [
       "[(' ', 198098),\n",
       " ('e', 117092),\n",
       " ('t', 87996),\n",
       " ('a', 77916),\n",
       " ('o', 69326),\n",
       " ('n', 65617),\n",
       " ('i', 65434),\n",
       " ('s', 64231),\n",
       " ('h', 62896),\n",
       " ('r', 52134),\n",
       " ('l', 42793),\n",
       " ('d', 38219),\n",
       " ('u', 26697),\n",
       " ('m', 23277),\n",
       " ('\\n', 22924),\n",
       " ('\\r', 22924),\n",
       " ('c', 22507),\n",
       " ('w', 22222),\n",
       " ('f', 20833),\n",
       " ('g', 20820),\n",
       " (',', 19229),\n",
       " ('p', 17255),\n",
       " ('b', 16877),\n",
       " ('y', 16872),\n",
       " ('v', 8598),\n",
       " ('k', 8059),\n",
       " ('.', 7558),\n",
       " ('-', 5984),\n",
       " (';', 4173),\n",
       " ('\"', 3071),\n",
       " (\"'\", 2922),\n",
       " ('!', 1767),\n",
       " ('q', 1556),\n",
       " ('j', 1082),\n",
       " ('x', 1030),\n",
       " ('?', 1004),\n",
       " ('z', 632),\n",
       " ('(', 215),\n",
       " (')', 215),\n",
       " (':', 196),\n",
       " ('1', 142),\n",
       " ('0', 131),\n",
       " ('2', 60),\n",
       " ('8', 59),\n",
       " ('5', 55),\n",
       " ('7', 53),\n",
       " ('3', 47),\n",
       " ('*', 45),\n",
       " ('4', 39),\n",
       " ('6', 37),\n",
       " ('9', 35),\n",
       " ('_', 26),\n",
       " ('[', 3),\n",
       " (']', 3),\n",
       " ('&', 2),\n",
       " ('$', 2)]"
      ]
     },
     "execution_count": 24,
     "metadata": {},
     "output_type": "execute_result"
    }
   ],
   "source": [
    "top=order.most_common()\n",
    "top"
   ]
  }
 ],
 "metadata": {
  "anaconda-cloud": {},
  "kernelspec": {
   "display_name": "Python [conda root]",
   "language": "python",
   "name": "conda-root-py"
  },
  "language_info": {
   "codemirror_mode": {
    "name": "ipython",
    "version": 3
   },
   "file_extension": ".py",
   "mimetype": "text/x-python",
   "name": "python",
   "nbconvert_exporter": "python",
   "pygments_lexer": "ipython3",
   "version": "3.5.2"
  }
 },
 "nbformat": 4,
 "nbformat_minor": 1
}
