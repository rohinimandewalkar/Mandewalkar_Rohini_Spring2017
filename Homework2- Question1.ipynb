{
 "cells": [
  {
   "cell_type": "markdown",
   "metadata": {},
   "source": [
    "# Question 1:\n",
    "Learn and understand Zipf’s Law.\n",
    "\tPick any file (or files) in NLTK package.\n",
    "\tProve if Zipf’s Law works in Natural Language or not.\n",
    "\tREQUIREMNTS: (Must Do)\n",
    "Use ’glob’ to open and read file. If read multiple files use LOOP to achieve.\n",
    "Create at least one function and one lambda function.\n",
    "Save your data as an CSV file contains (Word, Rank, Frequency) with TITLE and Sort it by RANK.\n",
    "Open your CSV file, generate a log-log figure according to the data you saved.\n",
    "Write a conclusion at the end of your code base on your figure.\n",
    "(Optional) Use ‘matplotlib’ to generate a log-log figure in your code.\n"
   ]
  },
  {
   "cell_type": "code",
   "execution_count": 56,
   "metadata": {
    "collapsed": true
   },
   "outputs": [],
   "source": [
    "#Importing nltk\n",
    "import nltk \n",
    "from nltk.corpus import gutenberg\n"
   ]
  },
  {
   "cell_type": "code",
   "execution_count": 57,
   "metadata": {
    "collapsed": true
   },
   "outputs": [],
   "source": [
    "#Importing all the necessary files\n",
    "import matplotlib.pyplot as plt\n",
    "import glob, csv, re\n"
   ]
  },
  {
   "cell_type": "code",
   "execution_count": 58,
   "metadata": {
    "collapsed": false
   },
   "outputs": [
    {
     "name": "stdout",
     "output_type": "stream",
     "text": [
      "['austen-emma.txt', 'austen-persuasion.txt', 'austen-sense.txt', 'bible-kjv.txt', 'blake-poems.txt', 'bryant-stories.txt', 'burgess-busterbrown.txt', 'carroll-alice.txt', 'chesterton-ball.txt', 'chesterton-brown.txt', 'chesterton-thursday.txt', 'edgeworth-parents.txt', 'melville-moby_dick.txt', 'milton-paradise.txt', 'shakespeare-caesar.txt', 'shakespeare-hamlet.txt', 'shakespeare-macbeth.txt', 'whitman-leaves.txt']\n"
     ]
    }
   ],
   "source": [
    "#Printing all the files present in Gutenberg package\n",
    "print(gutenberg.fileids())"
   ]
  },
  {
   "cell_type": "code",
   "execution_count": 59,
   "metadata": {
    "collapsed": false
   },
   "outputs": [],
   "source": [
    "#Opening one file using glob and then reading data from it\n",
    "for file in glob.glob('C:/Users/rohini/Downloads/chesterton-brown.txt'):\n",
    "    with open(file, 'r',encoding=\"utf-8\", errors='ignore') as file:\n",
    "        data=file.read()\n"
   ]
  },
  {
   "cell_type": "code",
   "execution_count": 60,
   "metadata": {
    "collapsed": false
   },
   "outputs": [
    {
     "name": "stdout",
     "output_type": "stream",
     "text": [
      "56129\n"
     ]
    }
   ],
   "source": [
    "#Using regular expression to get words and then printing the count of words\n",
    "words = re.findall(r'(\\b[A-Za-z][a-z]{2,9}\\b)',data )\n",
    "print(len(words))"
   ]
  },
  {
   "cell_type": "code",
   "execution_count": 61,
   "metadata": {
    "collapsed": false
   },
   "outputs": [],
   "source": [
    "#Printing the words and their frequency: \n",
    "words_dictionary=dict()\n",
    "for word in words:\n",
    "    if word not in words_dictionary:\n",
    "        words_dictionary[word]=1\n",
    "    else:\n",
    "        words_dictionary[word] += 1\n",
    "sorted_words = sorted(words_dictionary.items(), key = lambda x : x[1] ,reverse = True)\n"
   ]
  },
  {
   "cell_type": "code",
   "execution_count": 62,
   "metadata": {
    "collapsed": true
   },
   "outputs": [],
   "source": [
    "#Writing a function to calculate frequency and rank of words\n",
    "def find_frequency_and_rank():\n",
    "    with open(('chesterton-brown.csv'), 'w', newline=\"\") as csvfile:\n",
    "        csv_output = csv.writer(csvfile)\n",
    "        csv_output.writerow(['Word', 'Freq', 'Rank'])\n",
    "        rank = 1\n",
    "        for word in sorted_words:\n",
    "            csv_output.writerow([word[0], word[1], rank])\n",
    "            rank +=1\n",
    "            csvfile.close"
   ]
  },
  {
   "cell_type": "code",
   "execution_count": 63,
   "metadata": {
    "collapsed": false
   },
   "outputs": [
    {
     "data": {
      "image/png": "[encoded data removed]",
      "text/plain": [
       "<matplotlib.figure.Figure at 0x26476af9278>"
      ]
     },
     "metadata": {},
     "output_type": "display_data"
    }
   ],
   "source": [
    "#Calling the function  to calculate the frequency and rank of words\n",
    "find_frequency_and_rank()\n",
    "\n",
    "csvfile = open('chesterton-brown.csv', 'r')\n",
    "word=[]\n",
    "frequency=[]\n",
    "rank=[]\n",
    "csv_f=csv.reader(csvfile)\n",
    "for row in csv_f:\n",
    "    word.append(row[0])\n",
    "    frequency.append(row[1])\n",
    "    rank.append(row[2])\n",
    "rank.pop(0)\n",
    "frequency.pop(0)\n",
    "plt.loglog(frequency,rank,color='r',linewidth=2)\n",
    "plt.grid(True)\n",
    "plt.title(\"Gutenberg Corpus- Zipf plot\")\n",
    "plt.xlabel(\"Log rank\")\n",
    "plt.ylabel(\"Log frequency\")\n",
    "plt.show()"
   ]
  },
  {
   "cell_type": "code",
   "execution_count": null,
   "metadata": {
    "collapsed": true
   },
   "outputs": [],
   "source": []
  }
 ],
 "metadata": {
  "anaconda-cloud": {},
  "kernelspec": {
   "display_name": "Python [conda root]",
   "language": "python",
   "name": "conda-root-py"
  },
  "language_info": {
   "codemirror_mode": {
    "name": "ipython",
    "version": 3
   },
   "file_extension": ".py",
   "mimetype": "text/x-python",
   "name": "python",
   "nbconvert_exporter": "python",
   "pygments_lexer": "ipython3",
   "version": "3.5.2"
  }
 },
 "nbformat": 4,
 "nbformat_minor": 1
}
