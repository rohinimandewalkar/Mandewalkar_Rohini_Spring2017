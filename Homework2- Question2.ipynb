{
 "cells": [
  {
   "cell_type": "markdown",
   "metadata": {},
   "source": [
    "# Question 2- Part 1\n",
    "Read all the json files in the folder called Data.\n",
    "\tThere are three categories of json files in this folder. They are identified by the key  called “term” in each of the json file.\n",
    "\tCreate a folder structure to read all these json files and store them into these separate  folders. You are expected to create a hierarchy of folder structure.\n",
    "\tExample:\n",
    "\tYou can place all restaurants json files in a particular country (say Australia) in the  same folder. How you group the json files and create a folder structure is your choice.  Your task is to identify criteria by which you can group all these json files and store  them.\n",
    "\t(You could use these keys to create hierarchy and store json files: Country, city,\n",
    "categories)\n",
    "\tOutput Format:\n",
    "\tCreate a folder (Name: Data Processed)\n",
    "\tIn this folder you should have a hierarchy of folder structures  (Example: Data Processed/Australia(AU)/……..)\n",
    "A good idea is that you can classify json files on Country name or code (You can  create a hierarchy of folder structures to effectively sort and store the files).\n",
    "The original json files in the folder “Data” have the name of the “id” key in the  file. You can even think of changing the name of the json file when you read and  store them.\n",
    "\n",
    "\n"
   ]
  },
  {
   "cell_type": "code",
   "execution_count": 3,
   "metadata": {
    "collapsed": true
   },
   "outputs": [],
   "source": [
    "#Importing all the necessary files\n",
    "import json\n",
    "import glob\n",
    "import os\n",
    "import re\n",
    "import csv"
   ]
  },
  {
   "cell_type": "code",
   "execution_count": 4,
   "metadata": {
    "collapsed": true
   },
   "outputs": [],
   "source": [
    "#Writing a function to create a parent folder data_processed (takes relative path and creates a folder if it does not exist)\n",
    "def create_parent_directory():\n",
    "    current_dir = os.path.dirname('__file__')\n",
    "    home_folder = os.path.join(current_dir, 'Data Processed')\n",
    "    if not os.path.exists(home_folder):\n",
    "        os.mkdir(home_folder)\n",
    "    return home_folder"
   ]
  },
  {
   "cell_type": "code",
   "execution_count": 5,
   "metadata": {
    "collapsed": true
   },
   "outputs": [],
   "source": [
    "#Writing a function to create a folder structure by joining the input parameters and return the folder path (if folder is created then return the respective path)\n",
    "def make_directory_with_country(home_folder, country_name, city_name, term, category):\n",
    "    directory =os.path.join(home_folder, country_name, city_name, term, category)\n",
    "    if not os.path.exists(directory):\n",
    "        os.makedirs(directory)\n",
    "        return directory\n",
    "    else:\n",
    "        return directory\n"
   ]
  },
  {
   "cell_type": "code",
   "execution_count": 6,
   "metadata": {
    "collapsed": true
   },
   "outputs": [],
   "source": [
    "#Writing a function to write data to json file at its respective location\n",
    "def write_to_json_file(file_path, json_data):\n",
    "    with open(file_path, 'w') as json_out:\n",
    "        json.dump(json_data, json_out)\n",
    "        \n",
    "#Lambda expression to remove numbers\n",
    "remove_numbers_lam = lambda value: re.sub(r'\\d+', '', value).strip()"
   ]
  },
  {
   "cell_type": "code",
   "execution_count": 9,
   "metadata": {
    "collapsed": false
   },
   "outputs": [],
   "source": [
    "home_folder = create_parent_directory()\n",
    "#Read all the json files at location using glob\n",
    "for filename in glob.glob(r'C:\\Users\\rohini\\Downloads\\DataAnalysis4Python_Spring17-master\\Assignment 2\\Data\\*.json'):\n",
    "    \n",
    "#Getting  the file name currently reading\n",
    "file_name = os.path.basename(filename)\n",
    "with open(filename) as f:\n",
    "        \n",
    "#Loading the  data from JSON file\n",
    "data_from_file = json.load(f)\n",
    "        \n",
    "#Getting allthe categories\n",
    "categories = [category[\"title\"] for category in data_from_file[\"categories\"]]\n",
    "for category in categories:\n",
    "            \n",
    "#Removing unnecessary spaces\n",
    "category = ' '.join(category.split())\n",
    "            \n",
    "#If there are extra spaces and numbers in the city names, then remove it\n",
    "city_name = ' '.join((data_from_file[\"location\"][\"city\"]).split())\n",
    "city_name = remove_numbers_lam(city_name)\n",
    "            \n",
    "#Calling the function to get the required folder path\n",
    "data_dir = make_directory_with_country(home_folder, data_from_file[\"location\"][\"country\"], city_name, data_from_file[\"term\"], category)\n",
    "            \n",
    "#Creating file path by joining folder structure and file name\n",
    "file_path = os.path.join(data_dir, file_name)\n",
    "            \n",
    "#Write everything to JSON file\n",
    "write_to_json_file(file_path, data_from_file)"
   ]
  },
  {
   "cell_type": "markdown",
   "metadata": {},
   "source": [
    "# PART 2:\n",
    "Read all the json files in the folder called Data.\n",
    "\tRead only the json files which contain the key called “restaurants”\n",
    "\tEach (or most of the json files) contain a key called “open” which contains the details  of the operation (timings) of the restaurants. For each json file, read the timings of the  restaurants.\n",
    "\tData of the operation timings of the restaurants is present for each day of the week. I  want you to extract each of this data and write it in an excel sheet.\n",
    "\tExample:\n",
    "\tFor a particular restaurant named “The Coffee Grounds”, the excel sheet should look  like this:\n",
    "\n"
   ]
  },
  {
   "cell_type": "code",
   "execution_count": 14,
   "metadata": {
    "collapsed": true
   },
   "outputs": [],
   "source": [
    "#Reading all the json files to find \"restaurants\" and getting the timing of each restaurant for each day and storing the result in a CSV file\n",
    "def add_rows(file, details):\n",
    "    rows = []\n",
    "    for detail in details:\n",
    "        row = []\n",
    "        row.append(file[\"name\"])\n",
    "        row.append(' '.join((file[\"location\"][\"city\"]).split()))\n",
    "        row.append(file[\"location\"][\"country\"])\n",
    "        row.append(detail['day'])\n",
    "        row.append(detail['start'][:2])\n",
    "        row.append(detail['start'][2:])\n",
    "        row.append(detail['end'][:2])\n",
    "        row.append(detail['end'][2:])\n",
    "        rows.append(row)\n",
    "    return rows"
   ]
  },
  {
   "cell_type": "code",
   "execution_count": 15,
   "metadata": {
    "collapsed": false
   },
   "outputs": [],
   "source": [
    "#Writing a function to write data to a CSV file\n",
    "def write_to_csv(file_name, restaurant_timings):\n",
    "    \n",
    "#Using utf-8 encoding as some restaurants are not in english language\n",
    "    with open(file_name, 'w', encoding='utf-8') as csv_output:\n",
    "        \n",
    "        writer = csv.writer(csv_output, delimiter=',', quoting=csv.QUOTE_NONE, lineterminator='\\n',escapechar='\\\\')\n",
    "        writer.writerow((\"Restaurant Name\", 'City', 'Country Code', 'Day of Week', 'Start Time Hour', 'Start Time Minutes', 'End Time Hour', 'End Time Minutes'))\n",
    "        for row in restaurant_timings:\n",
    "            writer.writerow(row)\n",
    "        csv_output.close()"
   ]
  },
  {
   "cell_type": "code",
   "execution_count": 16,
   "metadata": {
    "collapsed": true
   },
   "outputs": [],
   "source": [
    "#Read all the json files at location using glob\n",
    "restaurant_timings = []\n",
    "for filename in glob.glob(r'C:\\Users\\infer\\Desktop\\Spring17\\Python\\lectures\\DataAnalysis4Python_Spring17\\Assignment 2\\Data\\*.json'):\n",
    "    with open(filename) as f:\n",
    "        \n",
    "#Loading the data\n",
    "        data_from_file = json.load(f)\n",
    "        \n",
    "#Validating all the files to check if it is a restaurant\n",
    "        if data_from_file[\"term\"] == 'restaurants':\n",
    "            \n",
    "#Checking if there are hours mentioned for a restaurant\n",
    "            try:\n",
    "                details = [value for value in data_from_file[\"hours\"]]\n",
    "            \n",
    "#Create a dummy row to populate the data\n",
    "            except:\n",
    "                details = [{\"open\":[{\"day\": \"NA\",\"start\": \"NANA\",\"end\": \"NANA\"}]}]\n",
    "                \n",
    "#Populating the data in a list\n",
    "            restaurant_timings.extend(add_rows(data_from_file, details[0][\"open\"]))\n",
    "            \n",
    "write_to_csv('restaurant_timings.csv', restaurant_timings)"
   ]
  },
  {
   "cell_type": "code",
   "execution_count": null,
   "metadata": {
    "collapsed": true
   },
   "outputs": [],
   "source": []
  }
 ],
 "metadata": {
  "anaconda-cloud": {},
  "kernelspec": {
   "display_name": "Python [conda root]",
   "language": "python",
   "name": "conda-root-py"
  },
  "language_info": {
   "codemirror_mode": {
    "name": "ipython",
    "version": 3
   },
   "file_extension": ".py",
   "mimetype": "text/x-python",
   "name": "python",
   "nbconvert_exporter": "python",
   "pygments_lexer": "ipython3",
   "version": "3.5.2"
  }
 },
 "nbformat": 4,
 "nbformat_minor": 1
}
