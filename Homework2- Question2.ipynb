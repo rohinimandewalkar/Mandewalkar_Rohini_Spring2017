{
 "cells": [
  {
   "cell_type": "markdown",
   "metadata": {},
   "source": [
    "# Question 2- Part 1\n",
    "Read all the json files in the folder called Data.\n",
    "\tThere are three categories of json files in this folder. They are identified by the key  called “term” in each of the json file.\n",
    "\tCreate a folder structure to read all these json files and store them into these separate  folders. You are expected to create a hierarchy of folder structure.\n",
    "\tExample:\n",
    "\tYou can place all restaurants json files in a particular country (say Australia) in the  same folder. How you group the json files and create a folder structure is your choice.  Your task is to identify criteria by which you can group all these json files and store  them.\n",
    "\t(You could use these keys to create hierarchy and store json files: Country, city,\n",
    "categories)\n",
    "\tOutput Format:\n",
    "\tCreate a folder (Name: Data Processed)\n",
    "\tIn this folder you should have a hierarchy of folder structures  (Example: Data Processed/Australia(AU)/……..)\n",
    "A good idea is that you can classify json files on Country name or code (You can  create a hierarchy of folder structures to effectively sort and store the files).\n",
    "The original json files in the folder “Data” have the name of the “id” key in the  file. You can even think of changing the name of the json file when you read and  store them.\n",
    "\n",
    "\n"
   ]
  },
  {
   "cell_type": "code",
   "execution_count": null,
   "metadata": {
    "collapsed": true
   },
   "outputs": [],
   "source": [
    "\n",
    "\n"
   ]
  }
 ],
 "metadata": {
  "anaconda-cloud": {},
  "kernelspec": {
   "display_name": "Python [conda root]",
   "language": "python",
   "name": "conda-root-py"
  },
  "language_info": {
   "codemirror_mode": {
    "name": "ipython",
    "version": 3
   },
   "file_extension": ".py",
   "mimetype": "text/x-python",
   "name": "python",
   "nbconvert_exporter": "python",
   "pygments_lexer": "ipython3",
   "version": "3.5.2"
  }
 },
 "nbformat": 4,
 "nbformat_minor": 1
}
